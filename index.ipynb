{
 "cells": [
  {
   "cell_type": "markdown",
   "metadata": {},
   "source": [
    "# This keyword\n",
    "A tutorial on the use of the *this* keyword in JavaScript"
   ]
  },
  {
   "cell_type": "markdown",
   "metadata": {},
   "source": [
    "## Top Level \n",
    "At the very top level the _this_ keyword refers to the **global** object in a Node REPL or the **window** object in the browser. In a Node module it refers to **module.exports**."
   ]
  },
  {
   "cell_type": "code",
   "execution_count": 3,
   "metadata": {},
   "outputs": [
    {
     "data": {
      "text/plain": [
       "true"
      ]
     },
     "execution_count": 3,
     "metadata": {},
     "output_type": "execute_result"
    }
   ],
   "source": [
    "// Top level Node REPL\n",
    "this === global;"
   ]
  },
  {
   "cell_type": "code",
   "execution_count": null,
   "metadata": {
    "collapsed": true
   },
   "outputs": [],
   "source": [
    "// Top level browser\n",
    "this === window; //only works in a browser"
   ]
  },
  {
   "cell_type": "code",
   "execution_count": 4,
   "metadata": {},
   "outputs": [
    {
     "data": {
      "text/plain": [
       "false"
      ]
     },
     "execution_count": 4,
     "metadata": {},
     "output_type": "execute_result"
    }
   ],
   "source": [
    "// Top level Node module\n",
    "this === module.exports;"
   ]
  },
  {
   "cell_type": "markdown",
   "metadata": {},
   "source": [
    "## Plain Functions\n",
    "In plain functions, _this_ behaves differently depending on `'strict mode'`.\n",
    "When strict mode is off, _this_ refers to the global object."
   ]
  },
  {
   "cell_type": "code",
   "execution_count": 5,
   "metadata": {},
   "outputs": [
    {
     "data": {
      "text/plain": [
       "true"
      ]
     },
     "execution_count": 5,
     "metadata": {},
     "output_type": "execute_result"
    }
   ],
   "source": [
    "function notInStrictMode(){\n",
    "    return this === global;\n",
    "}\n",
    "notInStrictMode();"
   ]
  },
  {
   "cell_type": "markdown",
   "metadata": {},
   "source": [
    "When strict mode is on, _this_ is undefined. This is the same\n",
    "whether the strict mode is defined in the function or in the \n",
    "function's context."
   ]
  },
  {
   "cell_type": "code",
   "execution_count": 6,
   "metadata": {},
   "outputs": [
    {
     "data": {
      "text/plain": [
       "true"
      ]
     },
     "execution_count": 6,
     "metadata": {},
     "output_type": "execute_result"
    }
   ],
   "source": [
    "function inStrictMode(){\n",
    "    'use strict';\n",
    "    return this === undefined;\n",
    "}\n",
    "inStrictMode();"
   ]
  },
  {
   "cell_type": "code",
   "execution_count": null,
   "metadata": {
    "collapsed": true
   },
   "outputs": [],
   "source": []
  }
 ],
 "metadata": {
  "kernelspec": {
   "display_name": "Javascript (Node.js)",
   "language": "javascript",
   "name": "javascript"
  },
  "language_info": {
   "file_extension": ".js",
   "mimetype": "application/javascript",
   "name": "javascript",
   "version": "9.2.0"
  }
 },
 "nbformat": 4,
 "nbformat_minor": 2
}
