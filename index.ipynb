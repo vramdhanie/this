{
 "cells": [
  {
   "cell_type": "markdown",
   "metadata": {},
   "source": [
    "# This keyword\n",
    "A tutorial on the use of the *this* keyword in JavaScript"
   ]
  },
  {
   "cell_type": "markdown",
   "metadata": {},
   "source": [
    "## Top Level \n",
    "At the very top level the _this_ keyword refers to the **global** object in a Node REPL or the **window** object in the browser. In a Node module it refers to **module.exports**."
   ]
  },
  {
   "cell_type": "code",
   "execution_count": 3,
   "metadata": {},
   "outputs": [
    {
     "data": {
      "text/plain": [
       "true"
      ]
     },
     "execution_count": 3,
     "metadata": {},
     "output_type": "execute_result"
    }
   ],
   "source": [
    "// Top level Node REPL\n",
    "this === global;"
   ]
  },
  {
   "cell_type": "code",
   "execution_count": null,
   "metadata": {
    "collapsed": true
   },
   "outputs": [],
   "source": [
    "// Top level browser\n",
    "this === window; //only works in a browser"
   ]
  },
  {
   "cell_type": "code",
   "execution_count": 4,
   "metadata": {},
   "outputs": [
    {
     "data": {
      "text/plain": [
       "false"
      ]
     },
     "execution_count": 4,
     "metadata": {},
     "output_type": "execute_result"
    }
   ],
   "source": [
    "// Top level Node module\n",
    "this === module.exports;"
   ]
  },
  {
   "cell_type": "markdown",
   "metadata": {},
   "source": [
    "## Plain Functions\n",
    "In plain functions, _this_ behaves differently depending on `'strict mode'`.\n",
    "When strict mode is off, _this_ refers to the global object."
   ]
  },
  {
   "cell_type": "code",
   "execution_count": 5,
   "metadata": {},
   "outputs": [
    {
     "data": {
      "text/plain": [
       "true"
      ]
     },
     "execution_count": 5,
     "metadata": {},
     "output_type": "execute_result"
    }
   ],
   "source": [
    "function notInStrictMode(){\n",
    "    return this === global;\n",
    "}\n",
    "notInStrictMode();"
   ]
  },
  {
   "cell_type": "markdown",
   "metadata": {},
   "source": [
    "When strict mode is on, _this_ is undefined. This is the same\n",
    "whether the strict mode is defined in the function or in the \n",
    "function's context."
   ]
  },
  {
   "cell_type": "code",
   "execution_count": 6,
   "metadata": {},
   "outputs": [
    {
     "data": {
      "text/plain": [
       "true"
      ]
     },
     "execution_count": 6,
     "metadata": {},
     "output_type": "execute_result"
    }
   ],
   "source": [
    "function inStrictMode(){\n",
    "    'use strict';\n",
    "    return this === undefined;\n",
    "}\n",
    "inStrictMode();"
   ]
  },
  {
   "cell_type": "markdown",
   "metadata": {},
   "source": [
    "### Explanation\n",
    "This behaviour is enforced to help you avoid putting values into the global space by mistake. \n",
    "Consider the constructor function below. "
   ]
  },
  {
   "cell_type": "code",
   "execution_count": 7,
   "metadata": {
    "collapsed": true
   },
   "outputs": [],
   "source": [
    "function Vehicle(make, model){\n",
    "    this.make = make;\n",
    "    this.model = model;\n",
    "}\n"
   ]
  },
  {
   "cell_type": "markdown",
   "metadata": {},
   "source": [
    "If this function is invoked without using the new keyword\n",
    "what does _this_ refer to? Since _this_ in the Vehicle function\n",
    "refers to the **global** object, the make and model become\n",
    "global keys."
   ]
  },
  {
   "cell_type": "code",
   "execution_count": 11,
   "metadata": {},
   "outputs": [
    {
     "name": "stdout",
     "output_type": "stream",
     "text": [
      "What does variable veh conatin:  undefined\n",
      "global.make:  Toyota\n",
      "global.model:  Corolla\n"
     ]
    }
   ],
   "source": [
    "const veh = Vehicle(\"Toyota\", \"Corolla\");\n",
    "console.log('What does variable veh conatin: ', veh);\n",
    "console.log('global.make: ', global.make);\n",
    "console.log('global.model: ', global.model);"
   ]
  },
  {
   "cell_type": "markdown",
   "metadata": {},
   "source": [
    "The intention of course is to invoke this with the **new** keyword\n",
    "in order to construct an object."
   ]
  },
  {
   "cell_type": "code",
   "execution_count": 12,
   "metadata": {},
   "outputs": [
    {
     "name": "stdout",
     "output_type": "stream",
     "text": [
      "Vehicle { make: 'Toyota', model: 'Corolla' }\n"
     ]
    }
   ],
   "source": [
    "const vObj = new Vehicle(\"Toyota\", \"Corolla\");\n",
    "console.log(vObj);"
   ]
  },
  {
   "cell_type": "markdown",
   "metadata": {},
   "source": [
    "This makes a good argument for always using **strict** mode.\n",
    "Accidentally invoking the function will throw an appropriate error."
   ]
  },
  {
   "cell_type": "code",
   "execution_count": 14,
   "metadata": {},
   "outputs": [
    {
     "ename": "TypeError",
     "evalue": "Cannot set property 'make' of undefined",
     "output_type": "error",
     "traceback": [
      "evalmachine.<anonymous>:3",
      "    this.make = make;",
      "              ^",
      "",
      "TypeError: Cannot set property 'make' of undefined",
      "    at StrictVehicle (evalmachine.<anonymous>:3:15)",
      "    at evalmachine.<anonymous>:7:14",
      "    at ContextifyScript.Script.runInThisContext (vm.js:50:33)",
      "    at Object.runInThisContext (vm.js:152:38)",
      "    at run ([eval]:971:15)",
      "    at onRunRequest ([eval]:798:18)",
      "    at onMessage ([eval]:758:13)",
      "    at process.emit (events.js:159:13)",
      "    at emit (internal/child_process.js:790:12)",
      "    at _combinedTickCallback (internal/process/next_tick.js:141:11)"
     ]
    }
   ],
   "source": [
    "function StrictVehicle(make, model){\n",
    "    'use strict';\n",
    "    this.make = make;\n",
    "    this.model = model;\n",
    "}\n",
    "\n",
    "const errV = StrictVehicle(\"Toyota\", \"Corolla\");"
   ]
  },
  {
   "cell_type": "markdown",
   "metadata": {},
   "source": [
    "## Methods\n",
    "A method is a function that is a property of an object. **this** usually refers to\n",
    "the object on which the method is invoked."
   ]
  },
  {
   "cell_type": "code",
   "execution_count": null,
   "metadata": {
    "collapsed": true
   },
   "outputs": [],
   "source": []
  }
 ],
 "metadata": {
  "kernelspec": {
   "display_name": "Javascript (Node.js)",
   "language": "javascript",
   "name": "javascript"
  },
  "language_info": {
   "file_extension": ".js",
   "mimetype": "application/javascript",
   "name": "javascript",
   "version": "9.2.0"
  }
 },
 "nbformat": 4,
 "nbformat_minor": 2
}
