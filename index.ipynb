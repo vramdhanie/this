{
 "cells": [
  {
   "cell_type": "markdown",
   "metadata": {},
   "source": [
    "# This keyword\n",
    "A tutorial on the use of the *this* keyword in JavaScript"
   ]
  },
  {
   "cell_type": "markdown",
   "metadata": {},
   "source": [
    "## Top Level \n",
    "At the very top level the _this_ keyword refers to the **global** object in a Node REPL or the **window** object in the browser. In a Node module it refers to **module.exports**."
   ]
  },
  {
   "cell_type": "code",
   "execution_count": 1,
   "metadata": {},
   "outputs": [
    {
     "data": {
      "text/plain": [
       "true"
      ]
     },
     "execution_count": 1,
     "metadata": {},
     "output_type": "execute_result"
    }
   ],
   "source": [
    "// Top level Node REPL\n",
    "this === global;"
   ]
  },
  {
   "cell_type": "code",
   "execution_count": null,
   "metadata": {},
   "outputs": [],
   "source": [
    "// Top level browser\n",
    "this === window; //only works in a browser"
   ]
  },
  {
   "cell_type": "code",
   "execution_count": 2,
   "metadata": {},
   "outputs": [
    {
     "data": {
      "text/plain": [
       "false"
      ]
     },
     "execution_count": 2,
     "metadata": {},
     "output_type": "execute_result"
    }
   ],
   "source": [
    "// Top level Node module\n",
    "this === module.exports;"
   ]
  },
  {
   "cell_type": "markdown",
   "metadata": {},
   "source": [
    "## Plain Functions\n",
    "In plain functions, _this_ behaves differently depending on `'strict mode'`.\n",
    "When strict mode is off, _this_ refers to the global object."
   ]
  },
  {
   "cell_type": "code",
   "execution_count": 3,
   "metadata": {},
   "outputs": [
    {
     "data": {
      "text/plain": [
       "true"
      ]
     },
     "execution_count": 3,
     "metadata": {},
     "output_type": "execute_result"
    }
   ],
   "source": [
    "function notInStrictMode(){\n",
    "    return this === global;\n",
    "}\n",
    "notInStrictMode();"
   ]
  },
  {
   "cell_type": "markdown",
   "metadata": {},
   "source": [
    "When strict mode is on, _this_ is undefined. This is the same\n",
    "whether the strict mode is defined in the function or in the \n",
    "function's context."
   ]
  },
  {
   "cell_type": "code",
   "execution_count": 4,
   "metadata": {},
   "outputs": [
    {
     "data": {
      "text/plain": [
       "true"
      ]
     },
     "execution_count": 4,
     "metadata": {},
     "output_type": "execute_result"
    }
   ],
   "source": [
    "function inStrictMode(){\n",
    "    'use strict';\n",
    "    return this === undefined;\n",
    "}\n",
    "inStrictMode();"
   ]
  },
  {
   "cell_type": "markdown",
   "metadata": {},
   "source": [
    "### Explanation\n",
    "This behaviour is enforced to help you avoid putting values into the global space by mistake. \n",
    "Consider the constructor function below. "
   ]
  },
  {
   "cell_type": "code",
   "execution_count": 5,
   "metadata": {
    "collapsed": true
   },
   "outputs": [],
   "source": [
    "function Vehicle(make, model){\n",
    "    this.make = make;\n",
    "    this.model = model;\n",
    "}\n"
   ]
  },
  {
   "cell_type": "markdown",
   "metadata": {},
   "source": [
    "If this function is invoked without using the new keyword\n",
    "what does _this_ refer to? Since _this_ in the Vehicle function\n",
    "refers to the **global** object, the make and model become\n",
    "global keys."
   ]
  },
  {
   "cell_type": "code",
   "execution_count": 6,
   "metadata": {},
   "outputs": [
    {
     "name": "stdout",
     "output_type": "stream",
     "text": [
      "What does variable veh conatin:  undefined\n",
      "global.make:  Toyota\n",
      "global.model:  Corolla\n"
     ]
    }
   ],
   "source": [
    "const veh = Vehicle(\"Toyota\", \"Corolla\");\n",
    "console.log('What does variable veh conatin: ', veh);\n",
    "console.log('global.make: ', global.make);\n",
    "console.log('global.model: ', global.model);"
   ]
  },
  {
   "cell_type": "markdown",
   "metadata": {},
   "source": [
    "The intention of course is to invoke this with the **new** keyword\n",
    "in order to construct an object."
   ]
  },
  {
   "cell_type": "code",
   "execution_count": 7,
   "metadata": {},
   "outputs": [
    {
     "name": "stdout",
     "output_type": "stream",
     "text": [
      "Vehicle { make: 'Toyota', model: 'Corolla' }\n"
     ]
    }
   ],
   "source": [
    "const vObj = new Vehicle(\"Toyota\", \"Corolla\");\n",
    "console.log(vObj);"
   ]
  },
  {
   "cell_type": "markdown",
   "metadata": {},
   "source": [
    "This makes a good argument for always using **strict** mode.\n",
    "Accidentally invoking the function will throw an appropriate error."
   ]
  },
  {
   "cell_type": "code",
   "execution_count": 8,
   "metadata": {},
   "outputs": [
    {
     "ename": "TypeError",
     "evalue": "Cannot set property 'make' of undefined",
     "output_type": "error",
     "traceback": [
      "evalmachine.<anonymous>:3",
      "    this.make = make;",
      "              ^",
      "",
      "TypeError: Cannot set property 'make' of undefined",
      "    at StrictVehicle (evalmachine.<anonymous>:3:15)",
      "    at evalmachine.<anonymous>:7:14",
      "    at ContextifyScript.Script.runInThisContext (vm.js:50:33)",
      "    at Object.runInThisContext (vm.js:152:38)",
      "    at run ([eval]:971:15)",
      "    at onRunRequest ([eval]:798:18)",
      "    at onMessage ([eval]:758:13)",
      "    at process.emit (events.js:159:13)",
      "    at emit (internal/child_process.js:790:12)",
      "    at _combinedTickCallback (internal/process/next_tick.js:141:11)"
     ]
    }
   ],
   "source": [
    "function StrictVehicle(make, model){\n",
    "    'use strict';\n",
    "    this.make = make;\n",
    "    this.model = model;\n",
    "}\n",
    "\n",
    "const errV = StrictVehicle(\"Toyota\", \"Corolla\");"
   ]
  },
  {
   "cell_type": "markdown",
   "metadata": {},
   "source": [
    "## Methods\n",
    "A method is a function that is a property of an object. **this** usually refers to\n",
    "the object on which the method is invoked."
   ]
  },
  {
   "cell_type": "code",
   "execution_count": 9,
   "metadata": {},
   "outputs": [
    {
     "name": "stdout",
     "output_type": "stream",
     "text": [
      "1/2\n"
     ]
    }
   ],
   "source": [
    "const fraction = {\n",
    "    numerator:1,\n",
    "    denominator:2,\n",
    "    print() {\n",
    "        console.log(`${this.numerator}/${this.denominator}`);\n",
    "    }\n",
    "}\n",
    "fraction.print();"
   ]
  },
  {
   "cell_type": "markdown",
   "metadata": {},
   "source": [
    "In this example _fraction_ is known as the **receiver** of the method call. It does not matter where the method was defined."
   ]
  },
  {
   "cell_type": "code",
   "execution_count": 10,
   "metadata": {},
   "outputs": [
    {
     "name": "stdout",
     "output_type": "stream",
     "text": [
      "1/2\n"
     ]
    }
   ],
   "source": [
    "function print(){\n",
    "    console.log(`${this.numerator}/${this.denominator}`);\n",
    "}\n",
    "fraction.print = print;\n",
    "fraction.print();"
   ]
  },
  {
   "cell_type": "markdown",
   "metadata": {},
   "source": [
    "In chained calls the receiver is the most immediate object in the chain."
   ]
  },
  {
   "cell_type": "code",
   "execution_count": 11,
   "metadata": {},
   "outputs": [
    {
     "name": "stdout",
     "output_type": "stream",
     "text": [
      "1/2\n"
     ]
    }
   ],
   "source": [
    "const math = {\n",
    "    foo: {\n",
    "        fraction: fraction\n",
    "    }\n",
    "}\n",
    "\n",
    "math.foo.fraction.print();"
   ]
  },
  {
   "cell_type": "markdown",
   "metadata": {},
   "source": [
    "However, if the method is invoked in isolation, the **this** once again becomes the global because the function is called as a plain function."
   ]
  },
  {
   "cell_type": "code",
   "execution_count": 12,
   "metadata": {},
   "outputs": [
    {
     "name": "stdout",
     "output_type": "stream",
     "text": [
      "undefined/undefined\n"
     ]
    }
   ],
   "source": [
    "const isolated_print = fraction.print;\n",
    "isolated_print();"
   ]
  },
  {
   "cell_type": "markdown",
   "metadata": {},
   "source": [
    "Such effects are most commonly experienced when passing functions as callbacks. "
   ]
  },
  {
   "cell_type": "code",
   "execution_count": 13,
   "metadata": {},
   "outputs": [
    {
     "name": "stdout",
     "output_type": "stream",
     "text": [
      "undefined/undefined\n"
     ]
    }
   ],
   "source": [
    "const timer = setTimeout(fraction.print, 1000);"
   ]
  },
  {
   "cell_type": "markdown",
   "metadata": {},
   "source": [
    "Wrapping the method in a function solves this problem. Since the function is called as a method the receiver remains the fraction object."
   ]
  },
  {
   "cell_type": "code",
   "execution_count": 14,
   "metadata": {},
   "outputs": [
    {
     "name": "stdout",
     "output_type": "stream",
     "text": [
      "1/2\n"
     ]
    }
   ],
   "source": [
    "const timer2 = setTimeout(() => {fraction.print()});"
   ]
  },
  {
   "cell_type": "markdown",
   "metadata": {
    "collapsed": true
   },
   "source": [
    "## Call\n",
    "Call is defined on the Object prototype so it is available on all functions. Call provides a means to invoke a function and specify the receiver without attaching the function to an object. "
   ]
  },
  {
   "cell_type": "code",
   "execution_count": 15,
   "metadata": {},
   "outputs": [
    {
     "name": "stdout",
     "output_type": "stream",
     "text": [
      "2 3 4\n",
      "false\n",
      "3 4 5\n",
      "true\n"
     ]
    }
   ],
   "source": [
    "function isPythagorean(){\n",
    "    console.log(this.a, this.b, this.c);\n",
    "    return (this.a**2 + this.b**2) === this.c**2;\n",
    "}\n",
    "\n",
    "const triangle1 = {\n",
    "    a:2,\n",
    "    b:3,\n",
    "    c:4\n",
    "}\n",
    "\n",
    "const triangle2 = {\n",
    "    a:3,\n",
    "    b:4,\n",
    "    c:5\n",
    "}\n",
    "\n",
    "console.log(isPythagorean.call(triangle1));\n",
    "console.log(isPythagorean.call(triangle2));"
   ]
  },
  {
   "cell_type": "code",
   "execution_count": null,
   "metadata": {
    "collapsed": true
   },
   "outputs": [],
   "source": []
  }
 ],
 "metadata": {
  "kernelspec": {
   "display_name": "Javascript (Node.js)",
   "language": "javascript",
   "name": "javascript"
  },
  "language_info": {
   "file_extension": ".js",
   "mimetype": "application/javascript",
   "name": "javascript",
   "version": "9.2.0"
  }
 },
 "nbformat": 4,
 "nbformat_minor": 2
}
